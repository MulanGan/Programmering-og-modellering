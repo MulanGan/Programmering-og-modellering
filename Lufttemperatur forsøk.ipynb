{
 "cells": [
  {
   "cell_type": "markdown",
   "metadata": {},
   "source": [
    "# Lufttemperatur forsøk\n",
    "\n",
    "I dette forsøket ble lufttemperaturen målt i ulike steder på skolen. Deretter settes dataen inn i jupyter.\n",
    "\n",
    "Av: Mulan Gan og Anna Wu"
   ]
  },
  {
   "cell_type": "code",
   "execution_count": 1,
   "metadata": {},
   "outputs": [
    {
     "data": {
      "image/png": "[encoded data removed]",
      "text/plain": [
       "<Figure size 432x288 with 1 Axes>"
      ]
     },
     "metadata": {
      "needs_background": "light"
     },
     "output_type": "display_data"
    }
   ],
   "source": [
    "from pylab import *\n",
    "\n",
    "sted = ['klasserommet','gangen','kantina','biblioteket']\n",
    "temp = [24.3, 23.4, 22.1, 22.3]\n",
    "\n",
    "bar(sted,temp)\n",
    "show()"
   ]
  },
  {
   "cell_type": "code",
   "execution_count": 2,
   "metadata": {},
   "outputs": [
    {
     "name": "stdout",
     "output_type": "stream",
     "text": [
      "gjennomsnitt:  23.02\n",
      "standaravvik:  0.79\n"
     ]
    }
   ],
   "source": [
    "def gjennomsnitt(liste):\n",
    "    return sum(liste)/len(liste)\n",
    "\n",
    "print(\"gjennomsnitt: \",round(gjennomsnitt(temp),2))\n",
    "\n",
    "def standaravvik(liste):\n",
    "    avg = gjennomsnitt(liste)\n",
    "    sum_avvik = 0\n",
    "    for i in liste:\n",
    "        sum_avvik += (i - avg)**2  #summen av kvadratene til avvik fra gjennomsnittet\n",
    "    return sum_avvik/len(liste)\n",
    "\n",
    "print(\"standaravvik: \",round(standaravvik(temp),2))\n",
    "    "
   ]
  },
  {
   "cell_type": "code",
   "execution_count": 3,
   "metadata": {},
   "outputs": [
    {
     "data": {
      "image/png": "[encoded data removed]",
      "text/plain": [
       "<Figure size 432x288 with 1 Axes>"
      ]
     },
     "metadata": {
      "needs_background": "light"
     },
     "output_type": "display_data"
    }
   ],
   "source": [
    "from pylab import *\n",
    "\n",
    "x = array(range(1,5))\n",
    "\n",
    "scatter(x, temp)                           #punkter\n",
    "\n",
    "def linje(x):                              #regresjonslinje\n",
    "    return -0.73*x+24.85                   #fant funksjonen i geogebra\n",
    "plot(x,linje(x))\n",
    "\n",
    "show()"
   ]
  },
  {
   "cell_type": "markdown",
   "metadata": {},
   "source": [
    "### Sier regresjonsmodellen noe om framtidig utvikling av det du har målt?\n",
    "Nei, fordi vi har valgt forskjellige steder å måle temperaturen av, \n",
    "så grafen kunne ikke ha predikert temperaturen fra det neste stedet vi måler, \n",
    "siden det ikke er noen sammenheng mellom stedene."
   ]
  }
 ],
 "metadata": {
  "kernelspec": {
   "display_name": "Python 3",
   "language": "python",
   "name": "python3"
  },
  "language_info": {
   "codemirror_mode": {
    "name": "ipython",
    "version": 3
   },
   "file_extension": ".py",
   "mimetype": "text/x-python",
   "name": "python",
   "nbconvert_exporter": "python",
   "pygments_lexer": "ipython3",
   "version": "3.8.3"
  }
 },
 "nbformat": 4,
 "nbformat_minor": 4
}
